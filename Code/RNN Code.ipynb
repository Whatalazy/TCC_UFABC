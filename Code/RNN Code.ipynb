{
 "cells": [
  {
   "cell_type": "markdown",
   "metadata": {},
   "source": [
    "## Importando bibliotecas"
   ]
  },
  {
   "cell_type": "code",
   "execution_count": 1,
   "metadata": {
    "id": "zStoeYCxiDxU"
   },
   "outputs": [],
   "source": [
    "import os\n",
    "import sys\n",
    "import pandas as pd\n",
    "import numpy as np\n",
    "\n",
    "#Plots\n",
    "import matplotlib.pyplot as plt\n",
    "import seaborn as sns\n",
    "\n",
    "# `do not disturb` mode\n",
    "import warnings                                  \n",
    "warnings.filterwarnings('ignore')\n",
    "                           \n",
    "# Dates Manipulation\n",
    "from dateutil.relativedelta import relativedelta \n",
    "from datetime import datetime, timedelta\n",
    "import holidays\n",
    "import calendar\n",
    "\n",
    "# statistics\n",
    "import statsmodels.formula.api as smf            \n",
    "import statsmodels.tsa.api as smt\n",
    "import statsmodels.api as sm\n",
    "\n",
    "#Signal Processing\n",
    "import scipy as sp\n",
    "import scipy.fftpack\n",
    "from scipy.optimize import minimize"
   ]
  },
  {
   "cell_type": "markdown",
   "metadata": {},
   "source": [
    "## Funções e Configurações"
   ]
  },
  {
   "cell_type": "code",
   "execution_count": 3,
   "metadata": {
    "id": "qmrejEEzZAZu"
   },
   "outputs": [],
   "source": [
    "#######  function [GRNN]=grnn_v1(p,t,spread) #######\n",
    "def train_matrix(p,t,spread):\n",
    "    #Cria Matriz de Treinamento: \n",
    "    \n",
    "    # p -> Matriz contendo os vetores de entrada\n",
    "    # t -> Matriz contendo os vetores de saída\n",
    "    # spread -> valor do spread que será utilizado\n",
    "    \n",
    "    #Cria matriz com as matrizes de entrada p e t\n",
    "    GRNN=np.zeros((1+t.shape[0]+p.shape[0],t.shape[1]))\n",
    "    \n",
    "    # Verifica o número de padrões utilizados no treinamento \"n\"\n",
    "    if p.shape[1] == t.shape[1]: \n",
    "        # número de entradas do vetor de entrada \"ne\"\n",
    "        GRNN[0,0]=p.shape[0]\n",
    "        # número de saídas do vetor de saída \"ns\"\n",
    "        GRNN[0,1]=t.shape[0]\n",
    "        # Spread\n",
    "        GRNN[0,2]=spread\n",
    "        \n",
    "        #vetores de entrada P\n",
    "        GRNN[1:1+p.shape[0],:]=p\n",
    "        #Vetores de saída T\n",
    "        GRNN[1+p.shape[0]:1+p.shape[0]+t.shape[0],:]=t\n",
    "    return GRNN;"
   ]
  },
  {
   "cell_type": "code",
   "execution_count": 4,
   "metadata": {},
   "outputs": [],
   "source": [
    "####### Função que implementa a GRNN #######\n",
    "\n",
    "def implementa_grnn(GRNN, X): \n",
    "    \n",
    "    # GRNN - Saída da Função grnn_v1(p,t,spread) #\n",
    "    # X    - Valor a ser aproximado #\n",
    "\n",
    "    # Definição de ne, n\n",
    "    sizep = [GRNN[0,0], GRNN.shape[1]] \n",
    "    \n",
    "    # Definição de ns, n\n",
    "    sizet = [GRNN[0,1], GRNN.shape[1]] \n",
    "    \n",
    "    # Parâmetro spread\n",
    "    spread = GRNN[0,2]\n",
    "\n",
    "    \n",
    "    p = GRNN[1:1+int(sizep[0]),:]\n",
    "    t = GRNN[1+int(sizep[0]):1+int(sizep[0])+int(sizet[0]),:]\n",
    "\n",
    "    c1 = np.zeros((int(sizep[0]),int(sizep[1])))\n",
    "    c3 = np.zeros((1,int(sizep[1])))\n",
    "    \n",
    "    num = np.zeros((int(sizet[0]),int(sizet[1])))\n",
    "    den = np.copy(c3)\n",
    "    \n",
    "    Y = np.zeros((int(sizet[0]),np.size(X,1)))\n",
    "    A = np.zeros((int(sizep[0]),int(sizep[1])))\n",
    "\n",
    "    if (p.shape[0] == X.shape[0]):\n",
    "        for i in range(X.shape[1]):\n",
    "            for k in range(int(sizep[0])):\n",
    "                A[k,:] = X[k,i]*np.ones((1,int(sizep[1])))\n",
    "            c1 = abs(A-p)**2\n",
    "            # soma \"MATRIZ\"\n",
    "            c2 = np.sqrt(c1.sum(axis=0)) \n",
    "            \n",
    "    ########### Aqui é a GRNN ########### \n",
    "\n",
    "            for j in range(int(sizep[1])): \n",
    "                c3[0,j] = (1)*np.exp(-(0.8326*c2[j]/spread)**2)\n",
    "                for k in range(int(sizet[0])):\n",
    "                    num[k,j] = t[k,j]*c3[0,j]\n",
    "                den[0,j] = c3[0,j]\n",
    "                \n",
    "    ########################################\n",
    "\n",
    "\n",
    "            for k in range(int(sizet[0])):\n",
    "                #Y(k,i)=sum(num(k,:)/(sum(den)+1e-9)\n",
    "                Y[k,i]=(np.sum(num[k,:])/(np.sum(den)+0.0000000001))\n",
    "    return Y"
   ]
  },
  {
   "cell_type": "code",
   "execution_count": 5,
   "metadata": {},
   "outputs": [],
   "source": [
    "####### Função que implementa a GRNN Modificada #######\n",
    "\n",
    "def implementa_grnn_mod(GRNN, X, nmax): \n",
    "    \n",
    "    # GRNN - Saída da Função grnn_v1(p,t,spread) #\n",
    "    # X    - Valor a ser aproximado #\n",
    "    \n",
    "    # Definição de ne, n\n",
    "    sizep=[GRNN[0,0], GRNN.shape[1]]\n",
    "    \n",
    "    # Definição de ns, n\n",
    "    sizet=[GRNN[0,1], GRNN.shape[1]] \n",
    "    \n",
    "    # Parâmetro spread\n",
    "    spread=GRNN[0,2]\n",
    "\n",
    "    p=GRNN[1:1+int(sizep[0]),:]\n",
    "    t=GRNN[1+int(sizep[0]):1+int(sizep[0])+int(sizet[0]),:]\n",
    "\n",
    "    c1=np.zeros((int(sizep[0]),int(sizep[1])))\n",
    "    c3=np.zeros((1,nmax))\n",
    "\n",
    "    num=np.zeros((int(sizet[0]),int(sizet[1])))\n",
    "    den=np.copy(c3)\n",
    "    \n",
    "    Y=np.zeros((int(sizet[0]), X.shape[1]))\n",
    "    A=np.zeros((int(sizep[0]),int(sizep[1])))\n",
    "    \n",
    "    if (p.shape[0] == X.shape[0]):\n",
    "        for i in range(X.shape[1]):      \n",
    "            for k in range(int(sizep[0])):\n",
    "                A[k,:]=X[k,i]*np.ones((1,int(sizep[1])))\n",
    "            \n",
    "            c1=abs(A-p)**2\n",
    "            \n",
    "            # soma \"MATRIZ\"\n",
    "            c2=np.sqrt(c1.sum(axis=0))\n",
    "\n",
    "########### Aqui é a GRNN modificada ###########\n",
    "        \n",
    "            ind_c2 = np.argsort(c2)\n",
    "            ord_c2 = np.sort(c2)\n",
    "        \n",
    "            for j in range(nmax): \n",
    "                \n",
    "                c3[0,j]=(1)*np.exp(-(0.8326*ord_c2[j]/spread)**2)\n",
    "                \n",
    "                for k in range(int(sizet[0])):\n",
    "                    \n",
    "                    num[k,j]=t[k,ind_c2[j]]*c3[0,j]\n",
    "                    \n",
    "                den[0,j]=c3[0,j]\n",
    "                \n",
    "####################################################\n",
    "            \n",
    "            for k in range(int(sizet[0])):\n",
    "                Y[k,i]=(np.sum(num[k,:])/(np.sum(den)+0.0000000001))\n",
    "    return Y\n"
   ]
  },
  {
   "cell_type": "code",
   "execution_count": 6,
   "metadata": {},
   "outputs": [],
   "source": [
    "# Vetor de Entrada\n",
    "p1 = [0.2, 0.4, 0.6, 0.8, 1, 1.2, 1.4, 1.6, 1.8, 2]\n",
    "p = np.array(p1, ndmin = 2)"
   ]
  },
  {
   "cell_type": "code",
   "execution_count": 7,
   "metadata": {},
   "outputs": [],
   "source": [
    "p2 = [[0.2, 0.4, 0.6, 0.8, 1, 1.2, 1.4, 1.6, 1.8, 2], [0.4, 0.8, 1.2, 1.6, 2, 2.4, 2.8, 3.2, 3.6, 4]]\n",
    "p2 = np.array(p2, ndmin = 2)"
   ]
  },
  {
   "cell_type": "code",
   "execution_count": 8,
   "metadata": {},
   "outputs": [],
   "source": [
    "# Vetor de Saída\n",
    "t1 = [0.0268, 0.0624, 0.0996, 0.1312, 0.15, 0.1488, 0.1204, 0.0576, -0.0468, -0.2]\n",
    "t = np.array(t1, ndmin = 2)"
   ]
  },
  {
   "cell_type": "code",
   "execution_count": 9,
   "metadata": {},
   "outputs": [],
   "source": [
    "spread = 0.1"
   ]
  },
  {
   "cell_type": "code",
   "execution_count": 16,
   "metadata": {},
   "outputs": [],
   "source": [
    "# Valor a ser aproximado\n",
    "X1 = [0.5, 0.6, 0.7, 0.8]\n",
    "X = np.array(X1, ndmin = 2)\n",
    "\n",
    "x2 = [[0.5], [0.5]]\n",
    "x2 = np.array(x2, ndmin = 2)"
   ]
  },
  {
   "cell_type": "code",
   "execution_count": 20,
   "metadata": {},
   "outputs": [
    {
     "name": "stdout",
     "output_type": "stream",
     "text": [
      "[[ 1.      1.      0.1     0.      0.      0.      0.      0.      0.\n",
      "   0.    ]\n",
      " [ 0.2     0.4     0.6     0.8     1.      1.2     1.4     1.6     1.8\n",
      "   2.    ]\n",
      " [ 0.0268  0.0624  0.0996  0.1312  0.15    0.1488  0.1204  0.0576 -0.0468\n",
      "  -0.2   ]]\n"
     ]
    }
   ],
   "source": [
    "# Matriz de treinamento\n",
    "W = train_matrix(p,t,spread)\n",
    "print(W)"
   ]
  },
  {
   "cell_type": "code",
   "execution_count": 21,
   "metadata": {},
   "outputs": [
    {
     "name": "stdout",
     "output_type": "stream",
     "text": [
      "[[0.08099222 0.09928868 0.11536422 0.13048841]]\n"
     ]
    }
   ],
   "source": [
    "# Resultado da GRNN\n",
    "r_grnn = implementa_grnn(W, X)\n",
    "print(r_grnn)"
   ]
  },
  {
   "cell_type": "code",
   "execution_count": 23,
   "metadata": {},
   "outputs": [
    {
     "name": "stdout",
     "output_type": "stream",
     "text": [
      "[[0.081      0.09741239 0.1154     0.13230557]]\n"
     ]
    }
   ],
   "source": [
    "# Resultado da GRNN Modificada\n",
    "r_m_grnn = implementa_grnn_mod(W, X, 2)\n",
    "print(r_m_grnn)"
   ]
  }
 ],
 "metadata": {
  "colab": {
   "authorship_tag": "ABX9TyNsJ6u45uNgRYZSK4k2a7pP",
   "name": "GRNN.ipynb",
   "provenance": []
  },
  "kernelspec": {
   "display_name": "Python 3",
   "language": "python",
   "name": "python3"
  },
  "language_info": {
   "codemirror_mode": {
    "name": "ipython",
    "version": 3
   },
   "file_extension": ".py",
   "mimetype": "text/x-python",
   "name": "python",
   "nbconvert_exporter": "python",
   "pygments_lexer": "ipython3",
   "version": "3.8.3"
  }
 },
 "nbformat": 4,
 "nbformat_minor": 1
}
