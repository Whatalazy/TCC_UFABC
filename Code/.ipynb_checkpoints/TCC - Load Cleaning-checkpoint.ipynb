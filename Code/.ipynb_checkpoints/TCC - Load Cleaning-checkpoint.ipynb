{
 "cells": [
  {
   "cell_type": "markdown",
   "metadata": {},
   "source": [
    "## Importando bibliotecas"
   ]
  },
  {
   "cell_type": "code",
   "execution_count": 163,
   "metadata": {
    "colab": {},
    "colab_type": "code",
    "id": "Etz4FdDxOYX0"
   },
   "outputs": [],
   "source": [
    "import os\n",
    "import sys\n",
    "\n",
    "import warnings                                  # `do not disturb` mode\n",
    "warnings.filterwarnings('ignore')\n",
    "\n",
    "import numpy as np                               # vectors and matrices\n",
    "import pandas as pd                              # tables and data manipulations\n",
    "import matplotlib.pyplot as plt\n",
    "import seaborn as sns                            # more plots\n",
    "sns.set_style(\"darkgrid\")\n",
    "\n",
    "from dateutil.relativedelta import relativedelta # working with dates with style\n",
    "from scipy.optimize import minimize              # for function minimization\n",
    "\n",
    "import statsmodels.formula.api as smf            # statistics and econometrics\n",
    "import statsmodels.tsa.api as smt\n",
    "import statsmodels.api as sm\n",
    "import scipy as sp\n",
    "import scipy.fftpack\n",
    "\n",
    "from datetime import datetime, timedelta\n",
    "import holidays\n",
    "import calendar\n",
    "\n",
    "#from itertools import product                   \n",
    "#from tqdm import tqdm_notebook\n",
    "\n",
    "%matplotlib inline\n",
    "%config InlineBackend.figure_format = 'svg'"
   ]
  },
  {
   "cell_type": "markdown",
   "metadata": {},
   "source": [
    "## Funções e Configurações"
   ]
  },
  {
   "cell_type": "code",
   "execution_count": 164,
   "metadata": {},
   "outputs": [],
   "source": [
    "def extract_date(df, column):\n",
    "    # Input: df receives dataframe and column receives string\n",
    "    # Extrai alguns dados relativos a datas\n",
    "        \n",
    "    #Extrai data da medição\n",
    "    df['data_med'] = df[column].dt.date\n",
    "    \n",
    "    #Extrai ano da medição\n",
    "    df['year'] = df[column].dt.year\n",
    "    \n",
    "    # Extrai mes da medição\n",
    "    df['month'] = df[column].dt.month\n",
    "    \n",
    "    # Extrai dia da medição\n",
    "    df['day'] = df[column].dt.day\n",
    "\n",
    "    # Extrai dia da semana da medição\n",
    "    df['week_day'] = df[column].apply(lambda x: calendar.day_name[x.weekday()].upper())"
   ]
  },
  {
   "cell_type": "code",
   "execution_count": 165,
   "metadata": {},
   "outputs": [],
   "source": [
    "def get_holidays(df, column):\n",
    "    \n",
    "    # Input: df receives dataframe and column receives string\n",
    "    # Pega dados de feriados\n",
    "    feriados = []\n",
    "    \n",
    "    #Seta os anos 2018 e 2019 para pegar a lista de feriados\n",
    "    yearss = [2018, 2019]\n",
    "\n",
    "    outros_2018 = ['2018-01-25', '2018-02-12', '2018-11-20', '2018-12-24']\n",
    "    outros_2019 = ['2019-01-25', '2018-03-04', '2019-11-20']\n",
    "    feriados = feriados + outros_2018 + outros_2019\n",
    "\n",
    "    for date in holidays.Brazil(state = 'SP', years = yearss).items():\n",
    "        feriados.append(str(date[0]))\n",
    "    feriados.sort()  \n",
    "    \n",
    "    # 1 se for feriado \n",
    "    # 0 caso contrário\n",
    "    \n",
    "    df['feriado'] = [\n",
    "    \n",
    "    1 if str(val).split()[0] in feriados \n",
    "    else 0 for val in df[column]\n",
    "    \n",
    "    ]\n"
   ]
  },
  {
   "cell_type": "code",
   "execution_count": 166,
   "metadata": {},
   "outputs": [],
   "source": [
    "def daylight_savings(df, column):\n",
    "    \n",
    "    ##################### Not Working ################################\n",
    "    \n",
    "    # Input: df receives dataframe and column receives string\n",
    "    \n",
    "    start = datetime(year = 2018, month=11, day = 4)\n",
    "    end = datetime(year = 2019, month=2, day = 16)\n",
    "    \n",
    "    asd = []\n",
    "    \n",
    "    hor_ver = pd.date_range(start = start, end = end)\n",
    "    \n",
    "    for i in hor_ver:\n",
    "        asd.append(i.strftime('%Y-%m-%d'))\n",
    "    \n",
    "    df['hora_verao'] = [\n",
    "    \n",
    "    1 if str(val).split()[0] in asd \n",
    "    else 0 for val in df[column]\n",
    "    \n",
    "    ]\n",
    "    "
   ]
  },
  {
   "cell_type": "code",
   "execution_count": 167,
   "metadata": {},
   "outputs": [],
   "source": [
    "def loadinfo(df, column1, column2):\n",
    "    \n",
    "    # Input: df receives dataframe and column receives string\n",
    "        \n",
    "    # Mean Value\n",
    "    mean_val = df.groupby(df[column1])[column2].mean()\n",
    "    mean_val = pd.DataFrame(mean_val)\n",
    "    mean_val.columns = ['valor_kwh_medio']\n",
    "    \n",
    "    # Max Value\n",
    "    max_val  = df.groupby(df[column1])[column2].max()\n",
    "    max_val = pd.DataFrame(max_val)\n",
    "    max_val.columns = ['valor_kwh_max']\n",
    "    \n",
    "    # Min Value\n",
    "    min_val  = df.groupby(df[column1])[column2].min()\n",
    "    min_val = pd.DataFrame(min_val)\n",
    "    min_val.columns = ['valor_kwh_min']\n",
    "    \n",
    "    return mean_val, max_val, min_val"
   ]
  },
  {
   "cell_type": "code",
   "execution_count": 168,
   "metadata": {
    "colab": {},
    "colab_type": "code",
    "id": "GSWmz027OYYA"
   },
   "outputs": [],
   "source": [
    "# Seta display de x linhas\n",
    "pd.set_option('display.max_row', 100)\n",
    "# Seta display de x colunas\n",
    "pd.set_option('display.max_columns', 15)"
   ]
  },
  {
   "cell_type": "markdown",
   "metadata": {
    "colab_type": "text",
    "id": "ur9CzO7ZOYYE"
   },
   "source": [
    "## Importando os datasets"
   ]
  },
  {
   "cell_type": "code",
   "execution_count": 169,
   "metadata": {
    "colab": {},
    "colab_type": "code",
    "id": "1dl1C5PHOYYF"
   },
   "outputs": [],
   "source": [
    "# Definindo os nomes das colunas\n",
    "headers = [\"nome_emp\",\"nome_parceiro\",\"instalacao\", \"classe\", \"serial\", \"codigo_ccee\", \"data_inicio_medicao\", \"data_fim_medicao\"\n",
    "          , \"data_medicao\", \"valor_pulso\", \"valor_kwh\", \"identificador\", \"medidor\"]\n",
    "\n",
    "\n",
    "typing = {'instalacao': 'str'}"
   ]
  },
  {
   "cell_type": "code",
   "execution_count": 170,
   "metadata": {
    "colab": {
     "base_uri": "https://localhost:8080/",
     "height": 411
    },
    "colab_type": "code",
    "executionInfo": {
     "elapsed": 667,
     "status": "error",
     "timestamp": 1583841126569,
     "user": {
      "displayName": "Vitor Miguel Martins",
      "photoUrl": "",
      "userId": "14709265121098995210"
     },
     "user_tz": 180
    },
    "id": "b4dUPNsfOYYJ",
    "outputId": "8073ad30-25ab-490e-8930-10f6e64ab59d"
   },
   "outputs": [],
   "source": [
    "#importando o arquivo - 01/01/2018 a 01/07/2018\n",
    "t01_2018 = pd.read_csv(r'C:\\Users\\vitmi\\Desktop\\TCC\\Data\\Telemedidos\\1Semestre2018Telemedidos.csv', encoding='utf-8', \n",
    "                       sep = ';', names = headers, decimal = '.',  dtype = typing, parse_dates = ['data_medicao'])"
   ]
  },
  {
   "cell_type": "code",
   "execution_count": 171,
   "metadata": {},
   "outputs": [
    {
     "data": {
      "text/html": [
       "<div>\n",
       "<style scoped>\n",
       "    .dataframe tbody tr th:only-of-type {\n",
       "        vertical-align: middle;\n",
       "    }\n",
       "\n",
       "    .dataframe tbody tr th {\n",
       "        vertical-align: top;\n",
       "    }\n",
       "\n",
       "    .dataframe thead th {\n",
       "        text-align: right;\n",
       "    }\n",
       "</style>\n",
       "<table border=\"1\" class=\"dataframe\">\n",
       "  <thead>\n",
       "    <tr style=\"text-align: right;\">\n",
       "      <th></th>\n",
       "      <th>nome_emp</th>\n",
       "      <th>nome_parceiro</th>\n",
       "      <th>instalacao</th>\n",
       "      <th>classe</th>\n",
       "      <th>serial</th>\n",
       "      <th>codigo_ccee</th>\n",
       "      <th>data_inicio_medicao</th>\n",
       "      <th>data_fim_medicao</th>\n",
       "      <th>data_medicao</th>\n",
       "      <th>valor_pulso</th>\n",
       "      <th>valor_kwh</th>\n",
       "      <th>identificador</th>\n",
       "      <th>medidor</th>\n",
       "    </tr>\n",
       "  </thead>\n",
       "  <tbody>\n",
       "    <tr>\n",
       "      <th>43</th>\n",
       "      <td>BANDEIRANTE BTI</td>\n",
       "      <td>VIDA EM CORES BERC E EDUC INFANTIL 0002071821</td>\n",
       "      <td>0002071821</td>\n",
       "      <td>110</td>\n",
       "      <td>13880585</td>\n",
       "      <td>NaN</td>\n",
       "      <td>2000-02-19 00:00:00.0000000</td>\n",
       "      <td>2099-02-19 00:00:00.0000000</td>\n",
       "      <td>2018-01-09 20:50:00</td>\n",
       "      <td>0</td>\n",
       "      <td>0</td>\n",
       "      <td>0</td>\n",
       "      <td>66915545</td>\n",
       "    </tr>\n",
       "    <tr>\n",
       "      <th>99</th>\n",
       "      <td>BANDEIRANTE BTI</td>\n",
       "      <td>VIDA EM CORES BERC E EDUC INFANTIL 0002071821</td>\n",
       "      <td>0002071821</td>\n",
       "      <td>110</td>\n",
       "      <td>13880585</td>\n",
       "      <td>NaN</td>\n",
       "      <td>2000-02-19 00:00:00.0000000</td>\n",
       "      <td>2099-02-19 00:00:00.0000000</td>\n",
       "      <td>2018-01-11 07:30:00</td>\n",
       "      <td>0</td>\n",
       "      <td>0</td>\n",
       "      <td>0</td>\n",
       "      <td>67069209</td>\n",
       "    </tr>\n",
       "    <tr>\n",
       "      <th>155</th>\n",
       "      <td>BANDEIRANTE BTI</td>\n",
       "      <td>VIDA EM CORES BERC E EDUC INFANTIL 0002071821</td>\n",
       "      <td>0002071821</td>\n",
       "      <td>110</td>\n",
       "      <td>13880585</td>\n",
       "      <td>NaN</td>\n",
       "      <td>2000-02-19 00:00:00.0000000</td>\n",
       "      <td>2099-02-19 00:00:00.0000000</td>\n",
       "      <td>2018-01-13 12:50:00</td>\n",
       "      <td>0</td>\n",
       "      <td>0</td>\n",
       "      <td>0</td>\n",
       "      <td>67118685</td>\n",
       "    </tr>\n",
       "    <tr>\n",
       "      <th>211</th>\n",
       "      <td>BANDEIRANTE BTI</td>\n",
       "      <td>VIDA EM CORES BERC E EDUC INFANTIL 0002071821</td>\n",
       "      <td>0002071821</td>\n",
       "      <td>110</td>\n",
       "      <td>13880585</td>\n",
       "      <td>NaN</td>\n",
       "      <td>2000-02-19 00:00:00.0000000</td>\n",
       "      <td>2099-02-19 00:00:00.0000000</td>\n",
       "      <td>2018-01-02 23:00:00</td>\n",
       "      <td>0</td>\n",
       "      <td>0</td>\n",
       "      <td>0</td>\n",
       "      <td>66568726</td>\n",
       "    </tr>\n",
       "    <tr>\n",
       "      <th>267</th>\n",
       "      <td>BANDEIRANTE BTI</td>\n",
       "      <td>VIDA EM CORES BERC E EDUC INFANTIL 0002071821</td>\n",
       "      <td>0002071821</td>\n",
       "      <td>110</td>\n",
       "      <td>13880585</td>\n",
       "      <td>NaN</td>\n",
       "      <td>2000-02-19 00:00:00.0000000</td>\n",
       "      <td>2099-02-19 00:00:00.0000000</td>\n",
       "      <td>2018-01-06 02:55:00</td>\n",
       "      <td>0</td>\n",
       "      <td>0</td>\n",
       "      <td>0</td>\n",
       "      <td>66813840</td>\n",
       "    </tr>\n",
       "    <tr>\n",
       "      <th>...</th>\n",
       "      <td>...</td>\n",
       "      <td>...</td>\n",
       "      <td>...</td>\n",
       "      <td>...</td>\n",
       "      <td>...</td>\n",
       "      <td>...</td>\n",
       "      <td>...</td>\n",
       "      <td>...</td>\n",
       "      <td>...</td>\n",
       "      <td>...</td>\n",
       "      <td>...</td>\n",
       "      <td>...</td>\n",
       "      <td>...</td>\n",
       "    </tr>\n",
       "    <tr>\n",
       "      <th>2472283</th>\n",
       "      <td>BANDEIRANTE BTI</td>\n",
       "      <td>VIDA EM CORES BERC E EDUC INFANTIL 0002071821</td>\n",
       "      <td>0002071821</td>\n",
       "      <td>110</td>\n",
       "      <td>13880585</td>\n",
       "      <td>NaN</td>\n",
       "      <td>2000-02-19 00:00:00.0000000</td>\n",
       "      <td>2099-02-19 00:00:00.0000000</td>\n",
       "      <td>2018-06-01 12:50:00</td>\n",
       "      <td>1</td>\n",
       "      <td>1</td>\n",
       "      <td>1</td>\n",
       "      <td>74315802</td>\n",
       "    </tr>\n",
       "    <tr>\n",
       "      <th>2472328</th>\n",
       "      <td>BANDEIRANTE BTI</td>\n",
       "      <td>VIDA EM CORES BERC E EDUC INFANTIL 0002071821</td>\n",
       "      <td>0002071821</td>\n",
       "      <td>110</td>\n",
       "      <td>13880585</td>\n",
       "      <td>NaN</td>\n",
       "      <td>2000-02-19 00:00:00.0000000</td>\n",
       "      <td>2099-02-19 00:00:00.0000000</td>\n",
       "      <td>2018-06-01 13:05:00</td>\n",
       "      <td>1</td>\n",
       "      <td>1</td>\n",
       "      <td>1</td>\n",
       "      <td>74315802</td>\n",
       "    </tr>\n",
       "    <tr>\n",
       "      <th>2472373</th>\n",
       "      <td>BANDEIRANTE BTI</td>\n",
       "      <td>VIDA EM CORES BERC E EDUC INFANTIL 0002071821</td>\n",
       "      <td>0002071821</td>\n",
       "      <td>110</td>\n",
       "      <td>13880585</td>\n",
       "      <td>NaN</td>\n",
       "      <td>2000-02-19 00:00:00.0000000</td>\n",
       "      <td>2099-02-19 00:00:00.0000000</td>\n",
       "      <td>2018-06-01 19:45:00</td>\n",
       "      <td>1</td>\n",
       "      <td>1</td>\n",
       "      <td>1</td>\n",
       "      <td>74315802</td>\n",
       "    </tr>\n",
       "    <tr>\n",
       "      <th>2472418</th>\n",
       "      <td>BANDEIRANTE BTI</td>\n",
       "      <td>VIDA EM CORES BERC E EDUC INFANTIL 0002071821</td>\n",
       "      <td>0002071821</td>\n",
       "      <td>110</td>\n",
       "      <td>13880585</td>\n",
       "      <td>NaN</td>\n",
       "      <td>2000-02-19 00:00:00.0000000</td>\n",
       "      <td>2099-02-19 00:00:00.0000000</td>\n",
       "      <td>2018-06-01 10:35:00</td>\n",
       "      <td>1</td>\n",
       "      <td>1</td>\n",
       "      <td>1</td>\n",
       "      <td>74315802</td>\n",
       "    </tr>\n",
       "    <tr>\n",
       "      <th>2472463</th>\n",
       "      <td>BANDEIRANTE BTI</td>\n",
       "      <td>VIDA EM CORES BERC E EDUC INFANTIL 0002071821</td>\n",
       "      <td>0002071821</td>\n",
       "      <td>110</td>\n",
       "      <td>13880585</td>\n",
       "      <td>NaN</td>\n",
       "      <td>2000-02-19 00:00:00.0000000</td>\n",
       "      <td>2099-02-19 00:00:00.0000000</td>\n",
       "      <td>2018-06-01 15:10:00</td>\n",
       "      <td>1</td>\n",
       "      <td>1</td>\n",
       "      <td>1</td>\n",
       "      <td>74315802</td>\n",
       "    </tr>\n",
       "  </tbody>\n",
       "</table>\n",
       "<p>43650 rows × 13 columns</p>\n",
       "</div>"
      ],
      "text/plain": [
       "                nome_emp                                  nome_parceiro  \\\n",
       "43       BANDEIRANTE BTI  VIDA EM CORES BERC E EDUC INFANTIL 0002071821   \n",
       "99       BANDEIRANTE BTI  VIDA EM CORES BERC E EDUC INFANTIL 0002071821   \n",
       "155      BANDEIRANTE BTI  VIDA EM CORES BERC E EDUC INFANTIL 0002071821   \n",
       "211      BANDEIRANTE BTI  VIDA EM CORES BERC E EDUC INFANTIL 0002071821   \n",
       "267      BANDEIRANTE BTI  VIDA EM CORES BERC E EDUC INFANTIL 0002071821   \n",
       "...                  ...                                            ...   \n",
       "2472283  BANDEIRANTE BTI  VIDA EM CORES BERC E EDUC INFANTIL 0002071821   \n",
       "2472328  BANDEIRANTE BTI  VIDA EM CORES BERC E EDUC INFANTIL 0002071821   \n",
       "2472373  BANDEIRANTE BTI  VIDA EM CORES BERC E EDUC INFANTIL 0002071821   \n",
       "2472418  BANDEIRANTE BTI  VIDA EM CORES BERC E EDUC INFANTIL 0002071821   \n",
       "2472463  BANDEIRANTE BTI  VIDA EM CORES BERC E EDUC INFANTIL 0002071821   \n",
       "\n",
       "         instalacao  classe    serial codigo_ccee  \\\n",
       "43       0002071821     110  13880585         NaN   \n",
       "99       0002071821     110  13880585         NaN   \n",
       "155      0002071821     110  13880585         NaN   \n",
       "211      0002071821     110  13880585         NaN   \n",
       "267      0002071821     110  13880585         NaN   \n",
       "...             ...     ...       ...         ...   \n",
       "2472283  0002071821     110  13880585         NaN   \n",
       "2472328  0002071821     110  13880585         NaN   \n",
       "2472373  0002071821     110  13880585         NaN   \n",
       "2472418  0002071821     110  13880585         NaN   \n",
       "2472463  0002071821     110  13880585         NaN   \n",
       "\n",
       "                 data_inicio_medicao             data_fim_medicao  \\\n",
       "43       2000-02-19 00:00:00.0000000  2099-02-19 00:00:00.0000000   \n",
       "99       2000-02-19 00:00:00.0000000  2099-02-19 00:00:00.0000000   \n",
       "155      2000-02-19 00:00:00.0000000  2099-02-19 00:00:00.0000000   \n",
       "211      2000-02-19 00:00:00.0000000  2099-02-19 00:00:00.0000000   \n",
       "267      2000-02-19 00:00:00.0000000  2099-02-19 00:00:00.0000000   \n",
       "...                              ...                          ...   \n",
       "2472283  2000-02-19 00:00:00.0000000  2099-02-19 00:00:00.0000000   \n",
       "2472328  2000-02-19 00:00:00.0000000  2099-02-19 00:00:00.0000000   \n",
       "2472373  2000-02-19 00:00:00.0000000  2099-02-19 00:00:00.0000000   \n",
       "2472418  2000-02-19 00:00:00.0000000  2099-02-19 00:00:00.0000000   \n",
       "2472463  2000-02-19 00:00:00.0000000  2099-02-19 00:00:00.0000000   \n",
       "\n",
       "               data_medicao  valor_pulso valor_kwh  identificador   medidor  \n",
       "43      2018-01-09 20:50:00            0         0              0  66915545  \n",
       "99      2018-01-11 07:30:00            0         0              0  67069209  \n",
       "155     2018-01-13 12:50:00            0         0              0  67118685  \n",
       "211     2018-01-02 23:00:00            0         0              0  66568726  \n",
       "267     2018-01-06 02:55:00            0         0              0  66813840  \n",
       "...                     ...          ...       ...            ...       ...  \n",
       "2472283 2018-06-01 12:50:00            1         1              1  74315802  \n",
       "2472328 2018-06-01 13:05:00            1         1              1  74315802  \n",
       "2472373 2018-06-01 19:45:00            1         1              1  74315802  \n",
       "2472418 2018-06-01 10:35:00            1         1              1  74315802  \n",
       "2472463 2018-06-01 15:10:00            1         1              1  74315802  \n",
       "\n",
       "[43650 rows x 13 columns]"
      ]
     },
     "execution_count": 171,
     "metadata": {},
     "output_type": "execute_result"
    }
   ],
   "source": [
    "t01_2018[(t01_2018['instalacao'] == '0002071821' )]"
   ]
  },
  {
   "cell_type": "code",
   "execution_count": 172,
   "metadata": {
    "colab": {},
    "colab_type": "code",
    "id": "wsHYH-elOYYM",
    "outputId": "17dea6fb-3aa7-4484-afd0-976d17353bf6"
   },
   "outputs": [
    {
     "name": "stdout",
     "output_type": "stream",
     "text": [
      "(7413450, 13)\n"
     ]
    }
   ],
   "source": [
    "print(t01_2018.shape)"
   ]
  },
  {
   "cell_type": "code",
   "execution_count": 173,
   "metadata": {
    "colab": {},
    "colab_type": "code",
    "id": "6X7WM5-MOYYR"
   },
   "outputs": [],
   "source": [
    "#importando o arquivo - 01/07/2018 a 31/12/2018\n",
    "t02_2018 = pd.read_csv(r'C:\\Users\\vitmi\\Desktop\\TCC\\Data\\Telemedidos\\2Semestre2018Telemedidos.csv', sep = ';', names = headers, decimal = '.', \n",
    "                        dtype = typing, parse_dates = ['data_medicao'])"
   ]
  },
  {
   "cell_type": "code",
   "execution_count": 174,
   "metadata": {
    "colab": {},
    "colab_type": "code",
    "id": "K-shB48QOYYU",
    "outputId": "bb9a659b-7176-4513-e191-b336e8e3d245"
   },
   "outputs": [
    {
     "name": "stdout",
     "output_type": "stream",
     "text": [
      "(10913538, 13)\n"
     ]
    }
   ],
   "source": [
    "print(t02_2018.shape)"
   ]
  },
  {
   "cell_type": "code",
   "execution_count": 175,
   "metadata": {
    "colab": {},
    "colab_type": "code",
    "id": "Ae-F06BoOYYY"
   },
   "outputs": [],
   "source": [
    "#importando o arquivo - 01/01/2019 a 01/07/2019\n",
    "t01_2019 = pd.read_csv(r'C:\\Users\\vitmi\\Desktop\\TCC\\Data\\Telemedidos\\1Semestre2019Telemedidos.csv', sep = ';', names = headers, decimal = '.', \n",
    "                        dtype = typing, parse_dates = ['data_medicao'])"
   ]
  },
  {
   "cell_type": "code",
   "execution_count": 176,
   "metadata": {
    "colab": {},
    "colab_type": "code",
    "id": "4-XAm2gdOYYe",
    "outputId": "ec3b7730-afaf-46db-d87d-825707182e0f"
   },
   "outputs": [
    {
     "name": "stdout",
     "output_type": "stream",
     "text": [
      "(2871139, 13)\n"
     ]
    }
   ],
   "source": [
    "print(t01_2019.shape)"
   ]
  },
  {
   "cell_type": "code",
   "execution_count": 177,
   "metadata": {
    "colab": {},
    "colab_type": "code",
    "id": "OyxI9kXOOYYk"
   },
   "outputs": [],
   "source": [
    "#importando o arquivo - 01/07/2019 a 01/01/2020\n",
    "t02_2019 = pd.read_csv(r'C:\\Users\\vitmi\\Desktop\\TCC\\Data\\Telemedidos\\2Semestre2019Telemedidos.csv', sep = ';', names = headers, decimal = '.',\n",
    "                        dtype = typing, parse_dates = ['data_medicao'])"
   ]
  },
  {
   "cell_type": "code",
   "execution_count": 178,
   "metadata": {
    "colab": {},
    "colab_type": "code",
    "id": "O1jD76jQOYYn",
    "outputId": "60d49efa-5e86-4de4-a82e-df8c713aba65"
   },
   "outputs": [
    {
     "name": "stdout",
     "output_type": "stream",
     "text": [
      "(7305341, 13)\n"
     ]
    }
   ],
   "source": [
    "print(t02_2019.shape)"
   ]
  },
  {
   "cell_type": "code",
   "execution_count": 179,
   "metadata": {
    "colab": {},
    "colab_type": "code",
    "id": "azgd65TzOYYq"
   },
   "outputs": [],
   "source": [
    "tele_2018 = t01_2018.append(t02_2018)\n",
    "tele_2019 = t01_2019.append(t02_2019)"
   ]
  },
  {
   "cell_type": "code",
   "execution_count": 180,
   "metadata": {
    "colab": {},
    "colab_type": "code",
    "id": "QDL75rCXOYYt"
   },
   "outputs": [],
   "source": [
    "tele_total = tele_2018.append(tele_2019)"
   ]
  },
  {
   "cell_type": "code",
   "execution_count": 181,
   "metadata": {
    "colab": {},
    "colab_type": "code",
    "id": "Y1XOp-KnOYYx",
    "outputId": "abf15c73-e860-42fd-b51a-3b627fde8c7e"
   },
   "outputs": [
    {
     "name": "stdout",
     "output_type": "stream",
     "text": [
      "(28503468, 13)\n"
     ]
    }
   ],
   "source": [
    "print(tele_total.shape)"
   ]
  },
  {
   "cell_type": "code",
   "execution_count": 182,
   "metadata": {},
   "outputs": [
    {
     "name": "stdout",
     "output_type": "stream",
     "text": [
      "14.5589917646721\n"
     ]
    }
   ],
   "source": [
    "print (sys.getsizeof(tele_total)/1024**3)"
   ]
  },
  {
   "cell_type": "markdown",
   "metadata": {},
   "source": [
    "### Pré Processamento dos dados"
   ]
  },
  {
   "cell_type": "code",
   "execution_count": 183,
   "metadata": {
    "colab": {},
    "colab_type": "code",
    "id": "lqoPgc91OYY1"
   },
   "outputs": [],
   "source": [
    "tele_total = tele_total.drop(columns = [\"nome_parceiro\", \"data_inicio_medicao\",\"data_fim_medicao\", \"codigo_ccee\", \"serial\", \"nome_emp\", \"identificador\", \"medidor\"])\n",
    "tele_total = tele_total.reset_index(drop = True)"
   ]
  },
  {
   "cell_type": "code",
   "execution_count": 184,
   "metadata": {},
   "outputs": [
    {
     "data": {
      "text/html": [
       "<div>\n",
       "<style scoped>\n",
       "    .dataframe tbody tr th:only-of-type {\n",
       "        vertical-align: middle;\n",
       "    }\n",
       "\n",
       "    .dataframe tbody tr th {\n",
       "        vertical-align: top;\n",
       "    }\n",
       "\n",
       "    .dataframe thead th {\n",
       "        text-align: right;\n",
       "    }\n",
       "</style>\n",
       "<table border=\"1\" class=\"dataframe\">\n",
       "  <thead>\n",
       "    <tr style=\"text-align: right;\">\n",
       "      <th></th>\n",
       "      <th>instalacao</th>\n",
       "      <th>classe</th>\n",
       "      <th>data_medicao</th>\n",
       "      <th>valor_pulso</th>\n",
       "      <th>valor_kwh</th>\n",
       "    </tr>\n",
       "  </thead>\n",
       "  <tbody>\n",
       "    <tr>\n",
       "      <th>0</th>\n",
       "      <td>0000503720</td>\n",
       "      <td>320</td>\n",
       "      <td>2018-01-06 00:00:00</td>\n",
       "      <td>220</td>\n",
       "      <td>1,76</td>\n",
       "    </tr>\n",
       "    <tr>\n",
       "      <th>1</th>\n",
       "      <td>0150566333</td>\n",
       "      <td>480</td>\n",
       "      <td>2018-01-13 17:45:00</td>\n",
       "      <td>7</td>\n",
       "      <td>0,294</td>\n",
       "    </tr>\n",
       "    <tr>\n",
       "      <th>2</th>\n",
       "      <td>0032993561</td>\n",
       "      <td>320</td>\n",
       "      <td>2018-01-11 15:50:00</td>\n",
       "      <td>0</td>\n",
       "      <td>0</td>\n",
       "    </tr>\n",
       "    <tr>\n",
       "      <th>3</th>\n",
       "      <td>0000149063</td>\n",
       "      <td>320</td>\n",
       "      <td>2018-01-11 19:50:00</td>\n",
       "      <td>104</td>\n",
       "      <td>2,184</td>\n",
       "    </tr>\n",
       "    <tr>\n",
       "      <th>4</th>\n",
       "      <td>0000108359</td>\n",
       "      <td>520</td>\n",
       "      <td>2018-01-06 04:45:00</td>\n",
       "      <td>14</td>\n",
       "      <td>0,196</td>\n",
       "    </tr>\n",
       "  </tbody>\n",
       "</table>\n",
       "</div>"
      ],
      "text/plain": [
       "   instalacao  classe        data_medicao  valor_pulso valor_kwh\n",
       "0  0000503720     320 2018-01-06 00:00:00          220      1,76\n",
       "1  0150566333     480 2018-01-13 17:45:00            7     0,294\n",
       "2  0032993561     320 2018-01-11 15:50:00            0         0\n",
       "3  0000149063     320 2018-01-11 19:50:00          104     2,184\n",
       "4  0000108359     520 2018-01-06 04:45:00           14     0,196"
      ]
     },
     "execution_count": 184,
     "metadata": {},
     "output_type": "execute_result"
    }
   ],
   "source": [
    "tele_total.head()"
   ]
  },
  {
   "cell_type": "code",
   "execution_count": 185,
   "metadata": {
    "colab": {},
    "colab_type": "code",
    "id": "O0w5quwxOYY4",
    "outputId": "917532ec-e3dd-442b-ede0-8771362546be"
   },
   "outputs": [
    {
     "data": {
      "text/plain": [
       "instalacao              object\n",
       "classe                   int64\n",
       "data_medicao    datetime64[ns]\n",
       "valor_pulso              int64\n",
       "valor_kwh               object\n",
       "dtype: object"
      ]
     },
     "execution_count": 185,
     "metadata": {},
     "output_type": "execute_result"
    }
   ],
   "source": [
    "tele_total.dtypes"
   ]
  },
  {
   "cell_type": "code",
   "execution_count": 186,
   "metadata": {
    "colab": {},
    "colab_type": "code",
    "id": "ggzNCJloOYY9",
    "outputId": "46ab023b-ca45-447c-a95a-64328618cae1"
   },
   "outputs": [
    {
     "name": "stdout",
     "output_type": "stream",
     "text": [
      "Total de valor_kwh nulos: 0\n",
      "Total de valor_pulso nulos: 0\n"
     ]
    }
   ],
   "source": [
    "#Contando quantidade de ValorKwh nulos\n",
    "print(\"Total de valor_kwh nulos: %d\" % (tele_total['valor_kwh'].isna().sum()))\n",
    "print(\"Total de valor_pulso nulos: %d\" % (tele_total['valor_pulso'].isna().sum()))"
   ]
  },
  {
   "cell_type": "code",
   "execution_count": 187,
   "metadata": {
    "colab": {},
    "colab_type": "code",
    "id": "_D-UHlIYOYZA"
   },
   "outputs": [],
   "source": [
    "# Substituindo decimal\n",
    "valor_kwh = tele_total[['valor_kwh']].stack().str.replace(',','.').unstack()"
   ]
  },
  {
   "cell_type": "code",
   "execution_count": 188,
   "metadata": {},
   "outputs": [],
   "source": [
    "#dropa valor_kwh\n",
    "tele_total = tele_total.drop(columns = [\"valor_kwh\"])"
   ]
  },
  {
   "cell_type": "code",
   "execution_count": 189,
   "metadata": {
    "colab": {},
    "colab_type": "code",
    "id": "SFsygVTuOYZD"
   },
   "outputs": [],
   "source": [
    "#insere novamente\n",
    "tele_total.insert( 4 , 'valor_kwh', valor_kwh)\n",
    "tele_total[[\"valor_kwh\"]] = tele_total[[\"valor_kwh\"]].astype(\"float\")"
   ]
  },
  {
   "cell_type": "code",
   "execution_count": 190,
   "metadata": {
    "colab": {},
    "colab_type": "code",
    "id": "iZkbg1Q-OYZK",
    "outputId": "d6eaa2d3-a7d0-4682-8a11-fe5d7cba792c"
   },
   "outputs": [
    {
     "data": {
      "text/html": [
       "<div>\n",
       "<style scoped>\n",
       "    .dataframe tbody tr th:only-of-type {\n",
       "        vertical-align: middle;\n",
       "    }\n",
       "\n",
       "    .dataframe tbody tr th {\n",
       "        vertical-align: top;\n",
       "    }\n",
       "\n",
       "    .dataframe thead th {\n",
       "        text-align: right;\n",
       "    }\n",
       "</style>\n",
       "<table border=\"1\" class=\"dataframe\">\n",
       "  <thead>\n",
       "    <tr style=\"text-align: right;\">\n",
       "      <th></th>\n",
       "      <th>instalacao</th>\n",
       "      <th>classe</th>\n",
       "      <th>data_medicao</th>\n",
       "      <th>valor_pulso</th>\n",
       "      <th>valor_kwh</th>\n",
       "    </tr>\n",
       "  </thead>\n",
       "  <tbody>\n",
       "    <tr>\n",
       "      <th>0</th>\n",
       "      <td>0000503720</td>\n",
       "      <td>320</td>\n",
       "      <td>2018-01-06 00:00:00</td>\n",
       "      <td>220</td>\n",
       "      <td>1.760</td>\n",
       "    </tr>\n",
       "    <tr>\n",
       "      <th>1</th>\n",
       "      <td>0150566333</td>\n",
       "      <td>480</td>\n",
       "      <td>2018-01-13 17:45:00</td>\n",
       "      <td>7</td>\n",
       "      <td>0.294</td>\n",
       "    </tr>\n",
       "    <tr>\n",
       "      <th>2</th>\n",
       "      <td>0032993561</td>\n",
       "      <td>320</td>\n",
       "      <td>2018-01-11 15:50:00</td>\n",
       "      <td>0</td>\n",
       "      <td>0.000</td>\n",
       "    </tr>\n",
       "    <tr>\n",
       "      <th>3</th>\n",
       "      <td>0000149063</td>\n",
       "      <td>320</td>\n",
       "      <td>2018-01-11 19:50:00</td>\n",
       "      <td>104</td>\n",
       "      <td>2.184</td>\n",
       "    </tr>\n",
       "    <tr>\n",
       "      <th>4</th>\n",
       "      <td>0000108359</td>\n",
       "      <td>520</td>\n",
       "      <td>2018-01-06 04:45:00</td>\n",
       "      <td>14</td>\n",
       "      <td>0.196</td>\n",
       "    </tr>\n",
       "  </tbody>\n",
       "</table>\n",
       "</div>"
      ],
      "text/plain": [
       "   instalacao  classe        data_medicao  valor_pulso  valor_kwh\n",
       "0  0000503720     320 2018-01-06 00:00:00          220      1.760\n",
       "1  0150566333     480 2018-01-13 17:45:00            7      0.294\n",
       "2  0032993561     320 2018-01-11 15:50:00            0      0.000\n",
       "3  0000149063     320 2018-01-11 19:50:00          104      2.184\n",
       "4  0000108359     520 2018-01-06 04:45:00           14      0.196"
      ]
     },
     "execution_count": 190,
     "metadata": {},
     "output_type": "execute_result"
    }
   ],
   "source": [
    "tele_total.head()"
   ]
  },
  {
   "cell_type": "markdown",
   "metadata": {
    "colab_type": "text",
    "id": "2m9yFXtNOYZv"
   },
   "source": [
    "### Reorganizando os dados"
   ]
  },
  {
   "cell_type": "code",
   "execution_count": 191,
   "metadata": {
    "colab": {},
    "colab_type": "code",
    "id": "_7s7J5eNOYZn",
    "outputId": "62d66ceb-9b89-4bcd-e99e-ecec07184be3"
   },
   "outputs": [
    {
     "name": "stdout",
     "output_type": "stream",
     "text": [
      "<class 'pandas.core.frame.DataFrame'>\n",
      "RangeIndex: 28503468 entries, 0 to 28503467\n",
      "Data columns (total 5 columns):\n",
      " #   Column        Dtype         \n",
      "---  ------        -----         \n",
      " 0   instalacao    object        \n",
      " 1   classe        int64         \n",
      " 2   data_medicao  datetime64[ns]\n",
      " 3   valor_pulso   int64         \n",
      " 4   valor_kwh     float64       \n",
      "dtypes: datetime64[ns](1), float64(1), int64(2), object(1)\n",
      "memory usage: 1.1+ GB\n",
      "None\n"
     ]
    }
   ],
   "source": [
    "print(tele_total.info())"
   ]
  },
  {
   "cell_type": "markdown",
   "metadata": {},
   "source": [
    "***Separando as Classes***"
   ]
  },
  {
   "cell_type": "code",
   "execution_count": 192,
   "metadata": {
    "colab": {},
    "colab_type": "code",
    "id": "tGt9IN7JOYZP",
    "outputId": "652d2b46-e609-4f32-99c9-93fb2d1a3e99",
    "scrolled": false
   },
   "outputs": [
    {
     "data": {
      "text/plain": [
       "200    2565604\n",
       "530    2333480\n",
       "720    2132261\n",
       "310    1993586\n",
       "520    1742095\n",
       "330    1681740\n",
       "320    1660683\n",
       "480    1654132\n",
       "510    1649694\n",
       "710    1628763\n",
       "340    1591884\n",
       "430    1588491\n",
       "410    1566847\n",
       "810    1491295\n",
       "110    1482625\n",
       "600    1171211\n",
       "420     158645\n",
       "830     158296\n",
       "470     128051\n",
       "490     124085\n",
       "Name: classe, dtype: int64"
      ]
     },
     "execution_count": 192,
     "metadata": {},
     "output_type": "execute_result"
    }
   ],
   "source": [
    "tele_total['classe'].value_counts()"
   ]
  },
  {
   "cell_type": "code",
   "execution_count": 193,
   "metadata": {},
   "outputs": [],
   "source": [
    "tele_total_res =  tele_total[(tele_total['classe'] == 110)]\n",
    "# 110 - 1482625 observações\n",
    "tele_total_ind =  tele_total[(tele_total['classe'] == 200)]\n",
    "# 200 - 2565604 observações\n",
    "tele_total_com =  tele_total[(tele_total['classe'] == 310)]\n",
    "# 310 - 1993586 observações\n",
    "tele_total_ppm =  tele_total[(tele_total['classe'] == 530)]\n",
    "# 530 - 2333480 observações\n",
    "tele_total_sp =  tele_total[(tele_total['classe'] == 720)]\n",
    "# 720 - 2132261 observações"
   ]
  },
  {
   "cell_type": "markdown",
   "metadata": {},
   "source": [
    "***Resetando o Index e ordenando***"
   ]
  },
  {
   "cell_type": "code",
   "execution_count": 194,
   "metadata": {},
   "outputs": [],
   "source": [
    "nomes = [tele_total_res, tele_total_ind, tele_total_com, tele_total_ppm, tele_total_sp]"
   ]
  },
  {
   "cell_type": "code",
   "execution_count": 195,
   "metadata": {},
   "outputs": [
    {
     "name": "stdout",
     "output_type": "stream",
     "text": [
      "Wall time: 2.58 s\n"
     ]
    }
   ],
   "source": [
    "%%time\n",
    "\n",
    "for i in nomes:\n",
    "    i.sort_values(by=['instalacao', 'data_medicao'])"
   ]
  },
  {
   "cell_type": "code",
   "execution_count": 196,
   "metadata": {},
   "outputs": [],
   "source": [
    "tele_total_res = tele_total_res[['instalacao', 'valor_kwh', 'data_medicao']]\n",
    "tele_total_ind = tele_total_ind[['instalacao', 'valor_kwh', 'data_medicao']]\n",
    "tele_total_com = tele_total_com[['instalacao', 'valor_kwh', 'data_medicao']]\n",
    "tele_total_ppm = tele_total_ppm[['instalacao', 'valor_kwh', 'data_medicao']]\n",
    "tele_total_sp  = tele_total_sp[['instalacao', 'valor_kwh', 'data_medicao']]"
   ]
  },
  {
   "cell_type": "code",
   "execution_count": 197,
   "metadata": {},
   "outputs": [
    {
     "name": "stdout",
     "output_type": "stream",
     "text": [
      "110    1482625\n",
      "Name: classe, dtype: int64\n",
      "200    2565604\n",
      "Name: classe, dtype: int64\n",
      "310    1993586\n",
      "Name: classe, dtype: int64\n",
      "530    2333480\n",
      "Name: classe, dtype: int64\n",
      "720    2132261\n",
      "Name: classe, dtype: int64\n"
     ]
    }
   ],
   "source": [
    "tele_total_res\n",
    "\n",
    "for i in nomes:\n",
    "    print(i['classe'].value_counts())"
   ]
  },
  {
   "cell_type": "markdown",
   "metadata": {},
   "source": [
    "### Reamostrando a informação"
   ]
  },
  {
   "cell_type": "code",
   "execution_count": 198,
   "metadata": {},
   "outputs": [],
   "source": [
    "tele_total_res = tele_total_res[(tele_total_res['valor_kwh'] > 0)]\n",
    "tele_total_ind = tele_total_ind[(tele_total_ind['valor_kwh'] > 0)]\n",
    "tele_total_com = tele_total_com[(tele_total_com['valor_kwh'] > 0)]\n",
    "tele_total_ppm = tele_total_ppm[(tele_total_ppm['valor_kwh'] > 0)]\n",
    "tele_total_sp  = tele_total_sp[(tele_total_sp['valor_kwh'] > 0)]"
   ]
  },
  {
   "cell_type": "code",
   "execution_count": 199,
   "metadata": {},
   "outputs": [],
   "source": [
    "tele_total_res = tele_total_res.reset_index(drop = True);\n",
    "tele_total_ind = tele_total_ind.reset_index(drop = True);\n",
    "tele_total_com = tele_total_com.reset_index(drop = True);\n",
    "tele_total_ppm = tele_total_ppm.reset_index(drop = True);\n",
    "tele_total_sp = tele_total_sp.reset_index(drop = True);"
   ]
  },
  {
   "cell_type": "code",
   "execution_count": 200,
   "metadata": {},
   "outputs": [
    {
     "name": "stdout",
     "output_type": "stream",
     "text": [
      "1482625\n",
      "2565604\n",
      "1993586\n",
      "2333480\n",
      "2132261\n"
     ]
    }
   ],
   "source": [
    "for i in nomes:\n",
    "    print(len(i))"
   ]
  },
  {
   "cell_type": "code",
   "execution_count": 201,
   "metadata": {},
   "outputs": [],
   "source": [
    "data_res = tele_total_res.groupby('instalacao').resample('30min', on = 'data_medicao').mean()\n",
    "data_ind = tele_total_ind.groupby('instalacao').resample('30min', on = 'data_medicao').mean()\n",
    "data_com = tele_total_com.groupby('instalacao').resample('30min', on = 'data_medicao').mean()\n",
    "data_ppm = tele_total_ppm.groupby('instalacao').resample('30min', on = 'data_medicao').mean()\n",
    "data_sp  = tele_total_sp.groupby('instalacao').resample('30min', on = 'data_medicao').mean()"
   ]
  },
  {
   "cell_type": "code",
   "execution_count": 202,
   "metadata": {},
   "outputs": [
    {
     "data": {
      "text/html": [
       "<div>\n",
       "<style scoped>\n",
       "    .dataframe tbody tr th:only-of-type {\n",
       "        vertical-align: middle;\n",
       "    }\n",
       "\n",
       "    .dataframe tbody tr th {\n",
       "        vertical-align: top;\n",
       "    }\n",
       "\n",
       "    .dataframe thead th {\n",
       "        text-align: right;\n",
       "    }\n",
       "</style>\n",
       "<table border=\"1\" class=\"dataframe\">\n",
       "  <thead>\n",
       "    <tr style=\"text-align: right;\">\n",
       "      <th></th>\n",
       "      <th>instalacao</th>\n",
       "      <th>valor_kwh</th>\n",
       "      <th>data_medicao</th>\n",
       "    </tr>\n",
       "  </thead>\n",
       "  <tbody>\n",
       "    <tr>\n",
       "      <th>0</th>\n",
       "      <td>0000502375</td>\n",
       "      <td>0.2560</td>\n",
       "      <td>2018-01-01 00:00:00</td>\n",
       "    </tr>\n",
       "    <tr>\n",
       "      <th>1</th>\n",
       "      <td>0000502375</td>\n",
       "      <td>0.2240</td>\n",
       "      <td>2018-01-01 00:30:00</td>\n",
       "    </tr>\n",
       "    <tr>\n",
       "      <th>2</th>\n",
       "      <td>0000502375</td>\n",
       "      <td>0.2040</td>\n",
       "      <td>2018-01-01 01:00:00</td>\n",
       "    </tr>\n",
       "    <tr>\n",
       "      <th>3</th>\n",
       "      <td>0000502375</td>\n",
       "      <td>0.2040</td>\n",
       "      <td>2018-01-01 01:30:00</td>\n",
       "    </tr>\n",
       "    <tr>\n",
       "      <th>4</th>\n",
       "      <td>0000502375</td>\n",
       "      <td>0.2080</td>\n",
       "      <td>2018-01-01 02:00:00</td>\n",
       "    </tr>\n",
       "    <tr>\n",
       "      <th>...</th>\n",
       "      <td>...</td>\n",
       "      <td>...</td>\n",
       "      <td>...</td>\n",
       "    </tr>\n",
       "    <tr>\n",
       "      <th>292773</th>\n",
       "      <td>0002095612</td>\n",
       "      <td>0.2352</td>\n",
       "      <td>2019-12-17 23:30:00</td>\n",
       "    </tr>\n",
       "    <tr>\n",
       "      <th>292774</th>\n",
       "      <td>0002095612</td>\n",
       "      <td>0.2364</td>\n",
       "      <td>2019-12-18 00:00:00</td>\n",
       "    </tr>\n",
       "    <tr>\n",
       "      <th>292775</th>\n",
       "      <td>0002095612</td>\n",
       "      <td>0.2484</td>\n",
       "      <td>2019-12-18 00:30:00</td>\n",
       "    </tr>\n",
       "    <tr>\n",
       "      <th>292776</th>\n",
       "      <td>0002095612</td>\n",
       "      <td>0.2316</td>\n",
       "      <td>2019-12-18 01:00:00</td>\n",
       "    </tr>\n",
       "    <tr>\n",
       "      <th>292777</th>\n",
       "      <td>0002095612</td>\n",
       "      <td>0.2592</td>\n",
       "      <td>2019-12-18 01:30:00</td>\n",
       "    </tr>\n",
       "  </tbody>\n",
       "</table>\n",
       "<p>292778 rows × 3 columns</p>\n",
       "</div>"
      ],
      "text/plain": [
       "        instalacao  valor_kwh        data_medicao\n",
       "0       0000502375     0.2560 2018-01-01 00:00:00\n",
       "1       0000502375     0.2240 2018-01-01 00:30:00\n",
       "2       0000502375     0.2040 2018-01-01 01:00:00\n",
       "3       0000502375     0.2040 2018-01-01 01:30:00\n",
       "4       0000502375     0.2080 2018-01-01 02:00:00\n",
       "...            ...        ...                 ...\n",
       "292773  0002095612     0.2352 2019-12-17 23:30:00\n",
       "292774  0002095612     0.2364 2019-12-18 00:00:00\n",
       "292775  0002095612     0.2484 2019-12-18 00:30:00\n",
       "292776  0002095612     0.2316 2019-12-18 01:00:00\n",
       "292777  0002095612     0.2592 2019-12-18 01:30:00\n",
       "\n",
       "[292778 rows x 3 columns]"
      ]
     },
     "execution_count": 202,
     "metadata": {},
     "output_type": "execute_result"
    }
   ],
   "source": [
    "data_res = data_res.reset_index()\n",
    "data_res = data_res[['instalacao', 'valor_kwh', 'data_medicao']]\n",
    "data_res"
   ]
  },
  {
   "cell_type": "code",
   "execution_count": 203,
   "metadata": {},
   "outputs": [
    {
     "data": {
      "text/html": [
       "<div>\n",
       "<style scoped>\n",
       "    .dataframe tbody tr th:only-of-type {\n",
       "        vertical-align: middle;\n",
       "    }\n",
       "\n",
       "    .dataframe tbody tr th {\n",
       "        vertical-align: top;\n",
       "    }\n",
       "\n",
       "    .dataframe thead th {\n",
       "        text-align: right;\n",
       "    }\n",
       "</style>\n",
       "<table border=\"1\" class=\"dataframe\">\n",
       "  <thead>\n",
       "    <tr style=\"text-align: right;\">\n",
       "      <th></th>\n",
       "      <th>instalacao</th>\n",
       "      <th>valor_kwh</th>\n",
       "      <th>data_medicao</th>\n",
       "    </tr>\n",
       "  </thead>\n",
       "  <tbody>\n",
       "    <tr>\n",
       "      <th>0</th>\n",
       "      <td>0000000027</td>\n",
       "      <td>720.00</td>\n",
       "      <td>2018-01-01 00:00:00</td>\n",
       "    </tr>\n",
       "    <tr>\n",
       "      <th>1</th>\n",
       "      <td>0000000027</td>\n",
       "      <td>723.60</td>\n",
       "      <td>2018-01-01 00:30:00</td>\n",
       "    </tr>\n",
       "    <tr>\n",
       "      <th>2</th>\n",
       "      <td>0000000027</td>\n",
       "      <td>727.20</td>\n",
       "      <td>2018-01-01 01:00:00</td>\n",
       "    </tr>\n",
       "    <tr>\n",
       "      <th>3</th>\n",
       "      <td>0000000027</td>\n",
       "      <td>721.80</td>\n",
       "      <td>2018-01-01 01:30:00</td>\n",
       "    </tr>\n",
       "    <tr>\n",
       "      <th>4</th>\n",
       "      <td>0000000027</td>\n",
       "      <td>721.80</td>\n",
       "      <td>2018-01-01 02:00:00</td>\n",
       "    </tr>\n",
       "    <tr>\n",
       "      <th>...</th>\n",
       "      <td>...</td>\n",
       "      <td>...</td>\n",
       "      <td>...</td>\n",
       "    </tr>\n",
       "    <tr>\n",
       "      <th>270129</th>\n",
       "      <td>0000000795</td>\n",
       "      <td>195.30</td>\n",
       "      <td>2018-08-14 00:00:00</td>\n",
       "    </tr>\n",
       "    <tr>\n",
       "      <th>270130</th>\n",
       "      <td>0000000795</td>\n",
       "      <td>182.28</td>\n",
       "      <td>2018-08-14 00:30:00</td>\n",
       "    </tr>\n",
       "    <tr>\n",
       "      <th>270131</th>\n",
       "      <td>0000000795</td>\n",
       "      <td>181.02</td>\n",
       "      <td>2018-08-14 01:00:00</td>\n",
       "    </tr>\n",
       "    <tr>\n",
       "      <th>270132</th>\n",
       "      <td>0000000795</td>\n",
       "      <td>191.52</td>\n",
       "      <td>2018-08-14 01:30:00</td>\n",
       "    </tr>\n",
       "    <tr>\n",
       "      <th>270133</th>\n",
       "      <td>0000000795</td>\n",
       "      <td>196.56</td>\n",
       "      <td>2018-08-14 02:00:00</td>\n",
       "    </tr>\n",
       "  </tbody>\n",
       "</table>\n",
       "<p>270134 rows × 3 columns</p>\n",
       "</div>"
      ],
      "text/plain": [
       "        instalacao  valor_kwh        data_medicao\n",
       "0       0000000027     720.00 2018-01-01 00:00:00\n",
       "1       0000000027     723.60 2018-01-01 00:30:00\n",
       "2       0000000027     727.20 2018-01-01 01:00:00\n",
       "3       0000000027     721.80 2018-01-01 01:30:00\n",
       "4       0000000027     721.80 2018-01-01 02:00:00\n",
       "...            ...        ...                 ...\n",
       "270129  0000000795     195.30 2018-08-14 00:00:00\n",
       "270130  0000000795     182.28 2018-08-14 00:30:00\n",
       "270131  0000000795     181.02 2018-08-14 01:00:00\n",
       "270132  0000000795     191.52 2018-08-14 01:30:00\n",
       "270133  0000000795     196.56 2018-08-14 02:00:00\n",
       "\n",
       "[270134 rows x 3 columns]"
      ]
     },
     "execution_count": 203,
     "metadata": {},
     "output_type": "execute_result"
    }
   ],
   "source": [
    "data_ind = data_ind.reset_index()\n",
    "data_ind = data_ind[['instalacao', 'valor_kwh', 'data_medicao']]\n",
    "data_ind"
   ]
  },
  {
   "cell_type": "code",
   "execution_count": 204,
   "metadata": {},
   "outputs": [
    {
     "data": {
      "text/html": [
       "<div>\n",
       "<style scoped>\n",
       "    .dataframe tbody tr th:only-of-type {\n",
       "        vertical-align: middle;\n",
       "    }\n",
       "\n",
       "    .dataframe tbody tr th {\n",
       "        vertical-align: top;\n",
       "    }\n",
       "\n",
       "    .dataframe thead th {\n",
       "        text-align: right;\n",
       "    }\n",
       "</style>\n",
       "<table border=\"1\" class=\"dataframe\">\n",
       "  <thead>\n",
       "    <tr style=\"text-align: right;\">\n",
       "      <th></th>\n",
       "      <th>instalacao</th>\n",
       "      <th>valor_kwh</th>\n",
       "      <th>data_medicao</th>\n",
       "    </tr>\n",
       "  </thead>\n",
       "  <tbody>\n",
       "    <tr>\n",
       "      <th>0</th>\n",
       "      <td>0000001261</td>\n",
       "      <td>36.800000</td>\n",
       "      <td>2018-01-01 00:00:00</td>\n",
       "    </tr>\n",
       "    <tr>\n",
       "      <th>1</th>\n",
       "      <td>0000001261</td>\n",
       "      <td>37.600000</td>\n",
       "      <td>2018-01-01 00:30:00</td>\n",
       "    </tr>\n",
       "    <tr>\n",
       "      <th>2</th>\n",
       "      <td>0000001261</td>\n",
       "      <td>36.800000</td>\n",
       "      <td>2018-01-01 01:00:00</td>\n",
       "    </tr>\n",
       "    <tr>\n",
       "      <th>3</th>\n",
       "      <td>0000001261</td>\n",
       "      <td>38.400000</td>\n",
       "      <td>2018-01-01 01:30:00</td>\n",
       "    </tr>\n",
       "    <tr>\n",
       "      <th>4</th>\n",
       "      <td>0000001261</td>\n",
       "      <td>38.400000</td>\n",
       "      <td>2018-01-01 02:00:00</td>\n",
       "    </tr>\n",
       "    <tr>\n",
       "      <th>...</th>\n",
       "      <td>...</td>\n",
       "      <td>...</td>\n",
       "      <td>...</td>\n",
       "    </tr>\n",
       "    <tr>\n",
       "      <th>341243</th>\n",
       "      <td>0000012017</td>\n",
       "      <td>29.703333</td>\n",
       "      <td>2019-12-19 22:00:00</td>\n",
       "    </tr>\n",
       "    <tr>\n",
       "      <th>341244</th>\n",
       "      <td>0000012017</td>\n",
       "      <td>25.830000</td>\n",
       "      <td>2019-12-19 22:30:00</td>\n",
       "    </tr>\n",
       "    <tr>\n",
       "      <th>341245</th>\n",
       "      <td>0000012017</td>\n",
       "      <td>22.493333</td>\n",
       "      <td>2019-12-19 23:00:00</td>\n",
       "    </tr>\n",
       "    <tr>\n",
       "      <th>341246</th>\n",
       "      <td>0000012017</td>\n",
       "      <td>21.210000</td>\n",
       "      <td>2019-12-19 23:30:00</td>\n",
       "    </tr>\n",
       "    <tr>\n",
       "      <th>341247</th>\n",
       "      <td>0000012017</td>\n",
       "      <td>23.520000</td>\n",
       "      <td>2019-12-20 00:00:00</td>\n",
       "    </tr>\n",
       "  </tbody>\n",
       "</table>\n",
       "<p>341248 rows × 3 columns</p>\n",
       "</div>"
      ],
      "text/plain": [
       "        instalacao  valor_kwh        data_medicao\n",
       "0       0000001261  36.800000 2018-01-01 00:00:00\n",
       "1       0000001261  37.600000 2018-01-01 00:30:00\n",
       "2       0000001261  36.800000 2018-01-01 01:00:00\n",
       "3       0000001261  38.400000 2018-01-01 01:30:00\n",
       "4       0000001261  38.400000 2018-01-01 02:00:00\n",
       "...            ...        ...                 ...\n",
       "341243  0000012017  29.703333 2019-12-19 22:00:00\n",
       "341244  0000012017  25.830000 2019-12-19 22:30:00\n",
       "341245  0000012017  22.493333 2019-12-19 23:00:00\n",
       "341246  0000012017  21.210000 2019-12-19 23:30:00\n",
       "341247  0000012017  23.520000 2019-12-20 00:00:00\n",
       "\n",
       "[341248 rows x 3 columns]"
      ]
     },
     "execution_count": 204,
     "metadata": {},
     "output_type": "execute_result"
    }
   ],
   "source": [
    "data_com = data_com.reset_index()\n",
    "data_com = data_com[['instalacao', 'valor_kwh', 'data_medicao']]\n",
    "data_com"
   ]
  },
  {
   "cell_type": "code",
   "execution_count": 205,
   "metadata": {},
   "outputs": [
    {
     "data": {
      "text/html": [
       "<div>\n",
       "<style scoped>\n",
       "    .dataframe tbody tr th:only-of-type {\n",
       "        vertical-align: middle;\n",
       "    }\n",
       "\n",
       "    .dataframe tbody tr th {\n",
       "        vertical-align: top;\n",
       "    }\n",
       "\n",
       "    .dataframe thead th {\n",
       "        text-align: right;\n",
       "    }\n",
       "</style>\n",
       "<table border=\"1\" class=\"dataframe\">\n",
       "  <thead>\n",
       "    <tr style=\"text-align: right;\">\n",
       "      <th></th>\n",
       "      <th>instalacao</th>\n",
       "      <th>valor_kwh</th>\n",
       "      <th>data_medicao</th>\n",
       "    </tr>\n",
       "  </thead>\n",
       "  <tbody>\n",
       "    <tr>\n",
       "      <th>0</th>\n",
       "      <td>0000002542</td>\n",
       "      <td>1.101333</td>\n",
       "      <td>2018-01-01 00:00:00</td>\n",
       "    </tr>\n",
       "    <tr>\n",
       "      <th>1</th>\n",
       "      <td>0000002542</td>\n",
       "      <td>1.101333</td>\n",
       "      <td>2018-01-01 00:30:00</td>\n",
       "    </tr>\n",
       "    <tr>\n",
       "      <th>2</th>\n",
       "      <td>0000002542</td>\n",
       "      <td>1.096667</td>\n",
       "      <td>2018-01-01 01:00:00</td>\n",
       "    </tr>\n",
       "    <tr>\n",
       "      <th>3</th>\n",
       "      <td>0000002542</td>\n",
       "      <td>1.122333</td>\n",
       "      <td>2018-01-01 01:30:00</td>\n",
       "    </tr>\n",
       "    <tr>\n",
       "      <th>4</th>\n",
       "      <td>0000002542</td>\n",
       "      <td>1.127000</td>\n",
       "      <td>2018-01-01 02:00:00</td>\n",
       "    </tr>\n",
       "    <tr>\n",
       "      <th>...</th>\n",
       "      <td>...</td>\n",
       "      <td>...</td>\n",
       "      <td>...</td>\n",
       "    </tr>\n",
       "    <tr>\n",
       "      <th>343562</th>\n",
       "      <td>0000109142</td>\n",
       "      <td>10.873333</td>\n",
       "      <td>2019-12-19 22:00:00</td>\n",
       "    </tr>\n",
       "    <tr>\n",
       "      <th>343563</th>\n",
       "      <td>0000109142</td>\n",
       "      <td>10.663333</td>\n",
       "      <td>2019-12-19 22:30:00</td>\n",
       "    </tr>\n",
       "    <tr>\n",
       "      <th>343564</th>\n",
       "      <td>0000109142</td>\n",
       "      <td>10.360000</td>\n",
       "      <td>2019-12-19 23:00:00</td>\n",
       "    </tr>\n",
       "    <tr>\n",
       "      <th>343565</th>\n",
       "      <td>0000109142</td>\n",
       "      <td>10.173333</td>\n",
       "      <td>2019-12-19 23:30:00</td>\n",
       "    </tr>\n",
       "    <tr>\n",
       "      <th>343566</th>\n",
       "      <td>0000109142</td>\n",
       "      <td>10.290000</td>\n",
       "      <td>2019-12-20 00:00:00</td>\n",
       "    </tr>\n",
       "  </tbody>\n",
       "</table>\n",
       "<p>343567 rows × 3 columns</p>\n",
       "</div>"
      ],
      "text/plain": [
       "        instalacao  valor_kwh        data_medicao\n",
       "0       0000002542   1.101333 2018-01-01 00:00:00\n",
       "1       0000002542   1.101333 2018-01-01 00:30:00\n",
       "2       0000002542   1.096667 2018-01-01 01:00:00\n",
       "3       0000002542   1.122333 2018-01-01 01:30:00\n",
       "4       0000002542   1.127000 2018-01-01 02:00:00\n",
       "...            ...        ...                 ...\n",
       "343562  0000109142  10.873333 2019-12-19 22:00:00\n",
       "343563  0000109142  10.663333 2019-12-19 22:30:00\n",
       "343564  0000109142  10.360000 2019-12-19 23:00:00\n",
       "343565  0000109142  10.173333 2019-12-19 23:30:00\n",
       "343566  0000109142  10.290000 2019-12-20 00:00:00\n",
       "\n",
       "[343567 rows x 3 columns]"
      ]
     },
     "execution_count": 205,
     "metadata": {},
     "output_type": "execute_result"
    }
   ],
   "source": [
    "data_ppm = data_ppm.reset_index()\n",
    "data_ppm = data_ppm[['instalacao', 'valor_kwh', 'data_medicao']]\n",
    "data_ppm"
   ]
  },
  {
   "cell_type": "code",
   "execution_count": 206,
   "metadata": {},
   "outputs": [
    {
     "data": {
      "text/html": [
       "<div>\n",
       "<style scoped>\n",
       "    .dataframe tbody tr th:only-of-type {\n",
       "        vertical-align: middle;\n",
       "    }\n",
       "\n",
       "    .dataframe tbody tr th {\n",
       "        vertical-align: top;\n",
       "    }\n",
       "\n",
       "    .dataframe thead th {\n",
       "        text-align: right;\n",
       "    }\n",
       "</style>\n",
       "<table border=\"1\" class=\"dataframe\">\n",
       "  <thead>\n",
       "    <tr style=\"text-align: right;\">\n",
       "      <th></th>\n",
       "      <th>instalacao</th>\n",
       "      <th>valor_kwh</th>\n",
       "      <th>data_medicao</th>\n",
       "    </tr>\n",
       "  </thead>\n",
       "  <tbody>\n",
       "    <tr>\n",
       "      <th>0</th>\n",
       "      <td>0000000591</td>\n",
       "      <td>55.200</td>\n",
       "      <td>2018-01-01 00:00:00</td>\n",
       "    </tr>\n",
       "    <tr>\n",
       "      <th>1</th>\n",
       "      <td>0000000591</td>\n",
       "      <td>55.000</td>\n",
       "      <td>2018-01-01 00:30:00</td>\n",
       "    </tr>\n",
       "    <tr>\n",
       "      <th>2</th>\n",
       "      <td>0000000591</td>\n",
       "      <td>55.600</td>\n",
       "      <td>2018-01-01 01:00:00</td>\n",
       "    </tr>\n",
       "    <tr>\n",
       "      <th>3</th>\n",
       "      <td>0000000591</td>\n",
       "      <td>56.400</td>\n",
       "      <td>2018-01-01 01:30:00</td>\n",
       "    </tr>\n",
       "    <tr>\n",
       "      <th>4</th>\n",
       "      <td>0000000591</td>\n",
       "      <td>56.800</td>\n",
       "      <td>2018-01-01 02:00:00</td>\n",
       "    </tr>\n",
       "    <tr>\n",
       "      <th>...</th>\n",
       "      <td>...</td>\n",
       "      <td>...</td>\n",
       "      <td>...</td>\n",
       "    </tr>\n",
       "    <tr>\n",
       "      <th>344644</th>\n",
       "      <td>0000035840</td>\n",
       "      <td>4.880</td>\n",
       "      <td>2019-12-19 22:00:00</td>\n",
       "    </tr>\n",
       "    <tr>\n",
       "      <th>344645</th>\n",
       "      <td>0000035840</td>\n",
       "      <td>4.884</td>\n",
       "      <td>2019-12-19 22:30:00</td>\n",
       "    </tr>\n",
       "    <tr>\n",
       "      <th>344646</th>\n",
       "      <td>0000035840</td>\n",
       "      <td>4.884</td>\n",
       "      <td>2019-12-19 23:00:00</td>\n",
       "    </tr>\n",
       "    <tr>\n",
       "      <th>344647</th>\n",
       "      <td>0000035840</td>\n",
       "      <td>4.886</td>\n",
       "      <td>2019-12-19 23:30:00</td>\n",
       "    </tr>\n",
       "    <tr>\n",
       "      <th>344648</th>\n",
       "      <td>0000035840</td>\n",
       "      <td>4.896</td>\n",
       "      <td>2019-12-20 00:00:00</td>\n",
       "    </tr>\n",
       "  </tbody>\n",
       "</table>\n",
       "<p>344649 rows × 3 columns</p>\n",
       "</div>"
      ],
      "text/plain": [
       "        instalacao  valor_kwh        data_medicao\n",
       "0       0000000591     55.200 2018-01-01 00:00:00\n",
       "1       0000000591     55.000 2018-01-01 00:30:00\n",
       "2       0000000591     55.600 2018-01-01 01:00:00\n",
       "3       0000000591     56.400 2018-01-01 01:30:00\n",
       "4       0000000591     56.800 2018-01-01 02:00:00\n",
       "...            ...        ...                 ...\n",
       "344644  0000035840      4.880 2019-12-19 22:00:00\n",
       "344645  0000035840      4.884 2019-12-19 22:30:00\n",
       "344646  0000035840      4.884 2019-12-19 23:00:00\n",
       "344647  0000035840      4.886 2019-12-19 23:30:00\n",
       "344648  0000035840      4.896 2019-12-20 00:00:00\n",
       "\n",
       "[344649 rows x 3 columns]"
      ]
     },
     "execution_count": 206,
     "metadata": {},
     "output_type": "execute_result"
    }
   ],
   "source": [
    "data_sp = data_sp.reset_index()\n",
    "data_sp = data_sp[['instalacao', 'valor_kwh', 'data_medicao']]\n",
    "data_sp"
   ]
  },
  {
   "cell_type": "markdown",
   "metadata": {},
   "source": [
    "### Extraindo informações importantes"
   ]
  },
  {
   "cell_type": "code",
   "execution_count": 207,
   "metadata": {},
   "outputs": [],
   "source": [
    "nomes_res = [data_res, data_ind, data_com, data_ppm, data_sp]"
   ]
  },
  {
   "cell_type": "code",
   "execution_count": 208,
   "metadata": {},
   "outputs": [
    {
     "name": "stdout",
     "output_type": "stream",
     "text": [
      "Wall time: 24.1 s\n"
     ]
    }
   ],
   "source": [
    "%%time\n",
    "\n",
    "for i in nomes_res:\n",
    "    extract_date(i, 'data_medicao')\n",
    "    get_holidays(i, 'data_medicao')\n",
    "    daylight_savings(i, 'data_medicao')"
   ]
  },
  {
   "cell_type": "markdown",
   "metadata": {},
   "source": [
    "## Importando os Datasets\n"
   ]
  },
  {
   "cell_type": "code",
   "execution_count": 209,
   "metadata": {},
   "outputs": [],
   "source": [
    "data_res.to_csv(r'C:/Users/vitmi/Desktop/TCC/Data/load_data/Data_res_mean.csv', sep=';', index = False)"
   ]
  },
  {
   "cell_type": "code",
   "execution_count": 210,
   "metadata": {},
   "outputs": [],
   "source": [
    "data_ind.to_csv(r'C:/Users/vitmi/Desktop/TCC/Data/load_data/data_ind_mean.csv', sep=';', index = False)"
   ]
  },
  {
   "cell_type": "code",
   "execution_count": 211,
   "metadata": {},
   "outputs": [],
   "source": [
    "#data_com.to_csv(r'C:/Users/vitmi/Desktop/TCC/Data/load_data/data_com_mean.csv', sep=';', index = False)"
   ]
  },
  {
   "cell_type": "code",
   "execution_count": 212,
   "metadata": {},
   "outputs": [],
   "source": [
    "data_ppm.to_csv(r'C:/Users/vitmi/Desktop/TCC/Data/load_data/Data_ppm_mean.csv', sep=';', index = False)"
   ]
  },
  {
   "cell_type": "code",
   "execution_count": 213,
   "metadata": {},
   "outputs": [],
   "source": [
    "data_sp.to_csv(r'C:/Users/vitmi/Desktop/TCC/Data/load_data/Data_sp_mean.csv', sep=';', index = False)"
   ]
  }
 ],
 "metadata": {
  "colab": {
   "collapsed_sections": [],
   "name": "TCC - Data Wrangling.ipynb",
   "provenance": []
  },
  "kernelspec": {
   "display_name": "Python 3",
   "language": "python",
   "name": "python3"
  },
  "language_info": {
   "codemirror_mode": {
    "name": "ipython",
    "version": 3
   },
   "file_extension": ".py",
   "mimetype": "text/x-python",
   "name": "python",
   "nbconvert_exporter": "python",
   "pygments_lexer": "ipython3",
   "version": "3.8.3"
  }
 },
 "nbformat": 4,
 "nbformat_minor": 1
}
